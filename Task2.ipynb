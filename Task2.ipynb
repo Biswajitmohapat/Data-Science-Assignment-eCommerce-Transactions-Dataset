{
 "cells": [
  {
   "cell_type": "code",
   "execution_count": 1,
   "id": "3d688e3c-9bd4-42a9-b234-0ac8ae8af6f0",
   "metadata": {},
   "outputs": [],
   "source": [
    "import pandas as pd\n",
    "from sklearn.metrics.pairwise import cosine_similarity\n",
    "from sklearn.preprocessing import StandardScaler"
   ]
  },
  {
   "cell_type": "code",
   "execution_count": 48,
   "id": "fcc8bdd9-011e-4c10-af75-34d8d1aaabe1",
   "metadata": {},
   "outputs": [],
   "source": [
    "# Load the data\n",
    "customers_df = pd.read_csv(r\"C:\\Users\\bmoha\\Downloads\\Customers.csv\")\n",
    "transactions_df = pd.read_csv(r\"C:\\Users\\bmoha\\Downloads\\Transactions.csv\")\n",
    "products_df = pd.read_csv(r\"C:\\Users\\bmoha\\Downloads\\Products.csv\")"
   ]
  },
  {
   "cell_type": "code",
   "execution_count": 68,
   "id": "f3e293bb-881a-4359-a52b-9d5c753701b2",
   "metadata": {},
   "outputs": [],
   "source": [
    "# Strip any spaces from column names\n",
    "customers_df.columns = customers_df.columns.str.strip()\n",
    "transactions_df.columns = transactions_df.columns.str.strip()\n",
    "products_df.columns = products_df.columns.str.strip()"
   ]
  },
  {
   "cell_type": "code",
   "execution_count": 70,
   "id": "a24efa99-e515-41fb-a21c-a44b0c0df1ba",
   "metadata": {},
   "outputs": [],
   "source": [
    "# Merge Transactions.csv with Products.csv on ProductID\n",
    "transactions_products_df = transactions_df.merge(products_df, on=\"ProductID\", how=\"left\")"
   ]
  },
  {
   "cell_type": "code",
   "execution_count": 72,
   "id": "9791b55a-ffdf-4f45-955d-1809579402ae",
   "metadata": {},
   "outputs": [],
   "source": [
    "# Create customer-level aggregated features from transactions\n",
    "customer_features = transactions_products_df.groupby(\"CustomerID\").agg({\n",
    "    \"TotalValue\": \"sum\",  # Total spending\n",
    "    \"TransactionID\": \"count\",  # Number of transactions\n",
    "    \"Quantity\": \"sum\"  # Total quantity purchased\n",
    "}).rename(columns={\n",
    "    \"TotalValue\": \"TotalSpending\",\n",
    "    \"TransactionID\": \"TransactionCount\",\n",
    "    \"Quantity\": \"TotalQuantity\"\n",
    "}).reset_index()"
   ]
  },
  {
   "cell_type": "code",
   "execution_count": 74,
   "id": "9c821481-1c17-419d-bd96-406e82378fac",
   "metadata": {},
   "outputs": [],
   "source": [
    "# Merge customer features with profile info\n",
    "customer_data = customers_df.merge(customer_features, on=\"CustomerID\", how=\"left\").fillna(0)"
   ]
  },
  {
   "cell_type": "code",
   "execution_count": 76,
   "id": "0ddb8707-8a83-4c8d-b445-11fb1e18b7a5",
   "metadata": {},
   "outputs": [],
   "source": [
    "# Select numerical features for similarity calculation\n",
    "features = customer_data[[\"TotalSpending\", \"TransactionCount\", \"TotalQuantity\"]]"
   ]
  },
  {
   "cell_type": "code",
   "execution_count": 78,
   "id": "bf835e60-618f-4446-a96e-45aeaed043d2",
   "metadata": {},
   "outputs": [],
   "source": [
    "# Standardize the data\n",
    "scaler = StandardScaler()\n",
    "scaled_features = scaler.fit_transform(features)"
   ]
  },
  {
   "cell_type": "code",
   "execution_count": 80,
   "id": "c4abe652-d502-4a3a-bbe4-d0a40e14c190",
   "metadata": {},
   "outputs": [],
   "source": [
    "# Compute cosine similarity\n",
    "similarity_matrix = cosine_similarity(scaled_features)\n",
    "similarity_df = pd.DataFrame(similarity_matrix, index=customer_data[\"CustomerID\"], columns=customer_data[\"CustomerID\"])"
   ]
  },
  {
   "cell_type": "code",
   "execution_count": 64,
   "id": "e78841bb-0bc7-4380-93ab-d52b7b2ce523",
   "metadata": {},
   "outputs": [
    {
     "name": "stdout",
     "output_type": "stream",
     "text": [
      "Lookalike recommendations saved to 'Lookalike.csv'\n"
     ]
    }
   ],
   "source": []
  },
  {
   "cell_type": "code",
   "execution_count": null,
   "id": "61110298-d69a-4734-a5ec-b92b6e3beb33",
   "metadata": {},
   "outputs": [],
   "source": []
  }
 ],
 "metadata": {
  "kernelspec": {
   "display_name": "Python 3 (ipykernel)",
   "language": "python",
   "name": "python3"
  },
  "language_info": {
   "codemirror_mode": {
    "name": "ipython",
    "version": 3
   },
   "file_extension": ".py",
   "mimetype": "text/x-python",
   "name": "python",
   "nbconvert_exporter": "python",
   "pygments_lexer": "ipython3",
   "version": "3.12.7"
  }
 },
 "nbformat": 4,
 "nbformat_minor": 5
}
